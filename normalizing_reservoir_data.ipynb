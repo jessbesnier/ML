{
 "cells": [
  {
   "cell_type": "markdown",
   "metadata": {},
   "source": [
    "Normalized data from a folder and into another folder\n",
    "Jessica Besnier\n",
    "Fall 2023"
   ]
  },
  {
   "cell_type": "code",
   "execution_count": 2,
   "metadata": {},
   "outputs": [],
   "source": [
    "import os\n",
    "import pandas as pd\n",
    "\n",
    "input_folder = 'Z:/Research_Projects/Reservoir_Project/data/regression_variables/variables_ts_clean_data_avail'\n",
    "output_folder = 'Z:/Research_Projects/Reservoir_Project/data/regression_variables/varaibles_ts_clean_top_anom'\n",
    "\n",
    "# Ensure the output folder exists\n",
    "os.makedirs(output_folder, exist_ok=True)\n",
    "\n",
    "# Get a list of all files in the input folder\n",
    "input_files = [f for f in os.listdir(input_folder) if os.path.isfile(os.path.join(input_folder, f))]\n",
    "\n",
    "for input_file in input_files:\n",
    "    # Load data from the input file\n",
    "    file_path = os.path.join(input_folder, input_file)\n",
    "    data = pd.read_csv(file_path)  # Assuming CSV format, adjust if needed\n",
    "\n",
    "    # Calculate the mean of the reservoir height\n",
    "    reservoir_height_mean = data['height'].mean()\n",
    "\n",
    "    # Normalize the reservoir height by subtracting the mean\n",
    "    data['normalized_reservoir_height'] = data['height'] - reservoir_height_mean\n",
    "\n",
    "    # Construct the output file path\n",
    "    output_file = os.path.splitext(input_file)[0] + '_normalized.csv'\n",
    "    output_path = os.path.join(output_folder, output_file)\n",
    "\n",
    "    # Save the normalized data to a new CSV file\n",
    "    data.to_csv(output_path, index=False)\n",
    "\n",
    "#new normalized files will be in the folder\n"
   ]
  },
  {
   "cell_type": "code",
   "execution_count": 5,
   "metadata": {},
   "outputs": [],
   "source": [
    "#concat the files into one dataset \n",
    "lidf = []\n",
    "directory = output_folder +'/'\n",
    "\n",
    "for fn in os.listdir(directory):\n",
    "    rddf = pd.read_csv(directory + fn, skip_blank_lines = False, parse_dates=True, encoding='UTF-8')\n",
    "    lidf.append(rddf)\n",
    "\n",
    "seldfidk = pd.concat(lidf, axis=0, ignore_index=True)\n",
    "\n",
    "def create_regression_dataset():\n",
    "    reservoir = seldfidk\n",
    "    df = reservoir[['normalized_reservoir_height', 'tws', 'precipitation', 'temp', 'volume', 'area', 'discharge', 'Res_time', 'depth', 'wshd_area','elevation' ]] #timeseries and static varaibles for algortihm to tell the difference between reservoirs \n",
    "    df_h= df.head(400) #change this to all data when actually running \n",
    "    \n",
    "    df_h.to_csv('Z:/Research_Projects/Reservoir_Project/ML_outputs/reservoir_regression_data_normalized.csv')\n",
    "    X = df_h[['tws', 'precipitation', 'temp', 'volume', 'area', 'discharge', 'Res_time', 'depth', 'wshd_area','elevation']]\n",
    "    y = df_h['normalized_reservoir_height']\n",
    "    return df, X, y\n",
    "\n",
    "\n",
    "def create_datasets():\n",
    "    \"\"\"Create example datasets\"\"\"\n",
    "\n",
    "    df_regression, _, __ = create_regression_dataset()\n",
    "    return df_regression, \n",
    "\n",
    "df_regression = create_datasets()"
   ]
  }
 ],
 "metadata": {
  "kernelspec": {
   "display_name": "mlenv",
   "language": "python",
   "name": "python3"
  },
  "language_info": {
   "codemirror_mode": {
    "name": "ipython",
    "version": 3
   },
   "file_extension": ".py",
   "mimetype": "text/x-python",
   "name": "python",
   "nbconvert_exporter": "python",
   "pygments_lexer": "ipython3",
   "version": "3.7.5"
  },
  "orig_nbformat": 4
 },
 "nbformat": 4,
 "nbformat_minor": 2
}
