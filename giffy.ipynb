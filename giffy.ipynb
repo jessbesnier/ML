{
 "cells": [
  {
   "cell_type": "markdown",
   "metadata": {},
   "source": [
    "GIF creator\n",
    "Jessica Besnier\n",
    "Sept 2022\n"
   ]
  },
  {
   "cell_type": "code",
   "execution_count": 11,
   "metadata": {},
   "outputs": [],
   "source": [
    "#Install pillow library\n",
    "\n",
    "from PIL import Image\n",
    "import glob\n",
    "import os\n",
    "\n",
    "#Define folder path with all images for GIF\n",
    "path = r'E:\\2021\\la_plata\\anom_spatial_plot_new/tws/'\n",
    "#List of image files (.png)\n",
    "images = sorted(glob.glob(path+\"/*.png\"))\n",
    "#Name of GIF file\n",
    "name = 'gldas_tws'\n",
    "#Speed of GIF loop (in ms)\n",
    "time = 1000\n",
    "\n",
    "frames=[]\n",
    "for i in images:\n",
    "    new_frame=Image.open(i)\n",
    "    frames.append(new_frame) \n",
    "\n",
    "os.chdir(path)\n",
    "frames[0].save('{}.gif'.format(name), format='GIF',append_images=frames[1:],save_all=True,duration=time,loop=0)"
   ]
  }
 ],
 "metadata": {
  "kernelspec": {
   "display_name": "Python 3.9.13 64-bit (windows store)",
   "language": "python",
   "name": "python3"
  },
  "language_info": {
   "codemirror_mode": {
    "name": "ipython",
    "version": 3
   },
   "file_extension": ".py",
   "mimetype": "text/x-python",
   "name": "python",
   "nbconvert_exporter": "python",
   "pygments_lexer": "ipython3",
   "version": "3.9.13"
  },
  "orig_nbformat": 4,
  "vscode": {
   "interpreter": {
    "hash": "02d048676e9fe933fed71c25b2d0555fb6f692dcbcf8489150af01f4bcaf5e92"
   }
  }
 },
 "nbformat": 4,
 "nbformat_minor": 2
}
